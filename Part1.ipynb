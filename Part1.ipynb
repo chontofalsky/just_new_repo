{
 "cells": [
  {
   "cell_type": "code",
   "execution_count": 2,
   "id": "0fe8839d",
   "metadata": {},
   "outputs": [
    {
     "name": "stdout",
     "output_type": "stream",
     "text": [
      "Hello world!\n"
     ]
    }
   ],
   "source": [
    "print(\"Hello world!\")"
   ]
  },
  {
   "cell_type": "code",
   "execution_count": 2,
   "id": "571d16ed",
   "metadata": {},
   "outputs": [
    {
     "data": {
      "text/plain": [
       "-4251528.0"
      ]
     },
     "execution_count": 2,
     "metadata": {},
     "output_type": "execute_result"
    }
   ],
   "source": [
    "(((9**0.5)**3)**2)**2 / (-2)**(-3)"
   ]
  },
  {
   "cell_type": "code",
   "execution_count": 2,
   "id": "f185aa5e",
   "metadata": {},
   "outputs": [
    {
     "name": "stdout",
     "output_type": "stream",
     "text": [
      "3\n",
      "3\n",
      "0\n"
     ]
    }
   ],
   "source": [
    "a = int(input())\n",
    "b = int(input())\n",
    "print(a%b)"
   ]
  },
  {
   "cell_type": "code",
   "execution_count": 2,
   "id": "93532145",
   "metadata": {},
   "outputs": [
    {
     "name": "stdout",
     "output_type": "stream",
     "text": [
      "13.0\n"
     ]
    }
   ],
   "source": [
    "number = 169\n",
    "\n",
    "if int(number**(1/2) ) == number**(1/2):\n",
    "    print(number**(1/2))\n",
    "else:\n",
    "    print(\"Квадратный корень из\", number, \"- не целое число\")"
   ]
  },
  {
   "cell_type": "code",
   "execution_count": 8,
   "id": "27a8fde4",
   "metadata": {},
   "outputs": [
    {
     "name": "stdout",
     "output_type": "stream",
     "text": [
      "Число делится на 2 без остатка.\n"
     ]
    }
   ],
   "source": [
    "number = 452\n",
    "\n",
    "if number%2 == 0:\n",
    "    print(\"Число делится на 2 без остатка.\")\n",
    "elif number%3 == 0:\n",
    "    print(\"Число делится на 3 без остатка.\")\n",
    "elif number%5 == 0:\n",
    "    print(\"Число делится на 5 без остатка.\")\n",
    "else:\n",
    "    print(\"Число не делится ни на 2, ни на 3, ни на 5 без остатка!\")"
   ]
  },
  {
   "cell_type": "code",
   "execution_count": 26,
   "id": "8caf59a7",
   "metadata": {},
   "outputs": [
    {
     "name": "stdout",
     "output_type": "stream",
     "text": [
      "Преподаватель занят.\n"
     ]
    }
   ],
   "source": [
    "hour = 18\n",
    "minute = 47\n",
    "\n",
    "if ((hour*60 + minute )< 10*60)\\\n",
    "or\\\n",
    "((hour*60 + minute )>= 10*60+30 and (hour*60 + minute )<= 12*60)\\\n",
    "or\\\n",
    "((hour*60 + minute )>= 13*60+40 and (hour*60 + minute )<= 15*60)\\\n",
    "or\\\n",
    "((hour*60 + minute )>= 18*60 and (hour*60 + minute )<= 19*60+30)\\\n",
    "or\\\n",
    "((hour*60 + minute )> 20*60):\n",
    "    print(\"Преподаватель занят.\")\n",
    "else:\n",
    "    print(\"Преподаватель свободен.\")"
   ]
  },
  {
   "cell_type": "code",
   "execution_count": 34,
   "id": "a31b7be8",
   "metadata": {},
   "outputs": [
    {
     "name": "stdout",
     "output_type": "stream",
     "text": [
      "30\n",
      "36\n",
      "40\n",
      "42\n"
     ]
    }
   ],
   "source": [
    "num_1 = 25\n",
    "num_2 = 45\n",
    "\n",
    "if num_1 < 0 or num_2 < num_1:\n",
    "    print(\"Введён неверный диапазон чисел\")\n",
    "for i in range(num_1, num_2+1):\n",
    "    if i%2 != 0 and (i%3 == 0 or i%5 == 0):\n",
    "        print(i)\n"
   ]
  },
  {
   "cell_type": "code",
   "execution_count": 50,
   "id": "901a16ad",
   "metadata": {},
   "outputs": [
    {
     "name": "stdout",
     "output_type": "stream",
     "text": [
      "55\n"
     ]
    }
   ],
   "source": [
    "n = 10\n",
    "f = [0 for i in range(n+1)]\n",
    "\n",
    "f[0] = 0\n",
    "f[1] = 1\n",
    "f[2] = 1\n",
    "for i in range(3, n+1):\n",
    "    f[i] = f[i-1] + f[i-2]\n",
    "print(f[n])"
   ]
  },
  {
   "cell_type": "code",
   "execution_count": 74,
   "id": "8f63a64b",
   "metadata": {},
   "outputs": [
    {
     "name": "stdout",
     "output_type": "stream",
     "text": [
      "Строка мне не нравится!\n"
     ]
    }
   ],
   "source": [
    "string = 'прелестная строка'\n",
    "k=0\n",
    "\n",
    "for i, letter in enumerate(string):\n",
    "    if (i+1)%2 == 0 and letter in (\"ё\",\"у\",\"е\",\"ы\",\"а\",\"о\",\"э\",\"я\",\"и\",\"ю\"):\n",
    "        k=1\n",
    "        print(\"Строка мне не нравится!\")\n",
    "        break\n",
    "if k == 0:\n",
    "    print(\"Какая хорошая строка!\")"
   ]
  },
  {
   "cell_type": "code",
   "execution_count": 88,
   "id": "9aa88eac",
   "metadata": {},
   "outputs": [
    {
     "name": "stdout",
     "output_type": "stream",
     "text": [
      "20\n"
     ]
    }
   ],
   "source": [
    "volume = 1000\n",
    "i = 0\n",
    "\n",
    "while volume > 0:\n",
    "    i += 1\n",
    "    volume += -5*i\n",
    "print(i)"
   ]
  },
  {
   "cell_type": "code",
   "execution_count": 89,
   "id": "5125f7de",
   "metadata": {},
   "outputs": [
    {
     "name": "stdout",
     "output_type": "stream",
     "text": [
      "6765\n"
     ]
    }
   ],
   "source": [
    "n = 20\n",
    "\n",
    "fib1 = 1\n",
    "fib2 = 1\n",
    "if n == 0:\n",
    "    print(0)\n",
    "elif n <= 2:\n",
    "    print(1)\n",
    "else:\n",
    "    for n in range(2, n):\n",
    "        fib_sum = fib1 + fib2\n",
    "        fib1 = fib2\n",
    "        fib2 = fib_sum\n",
    "    else:\n",
    "        print(fib2)"
   ]
  }
 ],
 "metadata": {
  "kernelspec": {
   "display_name": "Python 3",
   "language": "python",
   "name": "python3"
  },
  "language_info": {
   "codemirror_mode": {
    "name": "ipython",
    "version": 3
   },
   "file_extension": ".py",
   "mimetype": "text/x-python",
   "name": "python",
   "nbconvert_exporter": "python",
   "pygments_lexer": "ipython3",
   "version": "3.8.8"
  }
 },
 "nbformat": 4,
 "nbformat_minor": 5
}
